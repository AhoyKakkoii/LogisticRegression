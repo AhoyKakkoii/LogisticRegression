{
 "cells": [
  {
   "cell_type": "code",
   "execution_count": 1,
   "metadata": {},
   "outputs": [],
   "source": [
    "import csv \n",
    "import numpy as np \n",
    "import matplotlib.pyplot as plt \n"
   ]
  },
  {
   "cell_type": "code",
   "execution_count": 2,
   "metadata": {},
   "outputs": [],
   "source": [
    "def loadCSV(filename): \n",
    "\t''' \n",
    "\tfunction to load dataset \n",
    "\t'''\n",
    "\twith open(filename,\"r\") as csvfile: \n",
    "\t\tlines = csv.reader(csvfile) \n",
    "\t\tdataset = list(lines) \n",
    "\t\tfor i in range(len(dataset)): \n",
    "\t\t\tdataset[i] = [float(x) for x in dataset[i]]\t \n",
    "\treturn np.array(dataset) \n"
   ]
  },
  {
   "cell_type": "code",
   "execution_count": 3,
   "metadata": {},
   "outputs": [],
   "source": [
    "def normalize(X): \n",
    "    ''' \n",
    "    function to normalize feature matrix, X \n",
    "    '''\n",
    "    mins = np.min(X, axis = 0) \n",
    "    maxs = np.max(X, axis = 0) \n",
    "    rng = maxs - mins \n",
    "    norm_X = 1 - ((maxs - X)/rng) \n",
    "    return norm_X "
   ]
  },
  {
   "cell_type": "code",
   "execution_count": 4,
   "metadata": {},
   "outputs": [],
   "source": [
    "def logistic_func(beta, X): \n",
    "\t''' \n",
    "\tlogistic(sigmoid) function \n",
    "\t'''\n",
    "\treturn 1.0/(1 + np.exp(-np.dot(X, beta.T))) "
   ]
  },
  {
   "cell_type": "code",
   "execution_count": 5,
   "metadata": {},
   "outputs": [],
   "source": [
    "\n",
    "def log_gradient(beta, X, y): \n",
    "\t''' \n",
    "\tlogistic gradient function \n",
    "\t'''\n",
    "\tfirst_calc = logistic_func(beta, X) - y.reshape(X.shape[0], -1) \n",
    "\tfinal_calc = np.dot(first_calc.T, X) \n",
    "\treturn final_calc "
   ]
  },
  {
   "cell_type": "code",
   "execution_count": 6,
   "metadata": {},
   "outputs": [],
   "source": [
    "def cost_func(beta, X, y): \n",
    "\t''' \n",
    "\tcost function, J \n",
    "\t'''\n",
    "\tlog_func_v = logistic_func(beta, X) \n",
    "\ty = np.squeeze(y) \n",
    "\tstep1 = y * np.log(log_func_v) \n",
    "\tstep2 = (1 - y) * np.log(1 - log_func_v) \n",
    "\tfinal = -step1 - step2 \n",
    "\treturn np.mean(final) "
   ]
  },
  {
   "cell_type": "code",
   "execution_count": 7,
   "metadata": {},
   "outputs": [],
   "source": [
    "def grad_desc(X, y, beta, lr=.01, converge_change=.001): \n",
    "\t''' \n",
    "\tgradient descent function \n",
    "\t'''\n",
    "\tcost = cost_func(beta, X, y) \n",
    "\tchange_cost = 1\n",
    "\tnum_iter = 1\n",
    "\t\n",
    "\twhile(change_cost > converge_change): \n",
    "\t\told_cost = cost \n",
    "\t\tbeta = beta - (lr * log_gradient(beta, X, y)) \n",
    "\t\tcost = cost_func(beta, X, y) \n",
    "\t\tchange_cost = old_cost - cost \n",
    "\t\tnum_iter += 1\n",
    "\t\n",
    "\treturn beta, num_iter "
   ]
  },
  {
   "cell_type": "code",
   "execution_count": 8,
   "metadata": {},
   "outputs": [],
   "source": [
    "def pred_values(beta, X): \n",
    "\t''' \n",
    "\tfunction to predict labels \n",
    "\t'''\n",
    "\tpred_prob = logistic_func(beta, X) \n",
    "\tpred_value = np.where(pred_prob >= .5, 1, 0) \n",
    "\treturn np.squeeze(pred_value) "
   ]
  },
  {
   "cell_type": "code",
   "execution_count": 9,
   "metadata": {},
   "outputs": [],
   "source": [
    "def plot_reg(X, y, beta): \n",
    "\t''' \n",
    "\tfunction to plot decision boundary \n",
    "\t'''\n",
    "\t# labelled observations \n",
    "\tx_0 = X[np.where(y == 0.0)] \n",
    "\tx_1 = X[np.where(y == 1.0)] \n",
    "\t\n",
    "\t# plotting points with diff color for diff label \n",
    "\tplt.scatter([x_0[:, 1]], [x_0[:, 2]], c='b', label='y = 0') \n",
    "\tplt.scatter([x_1[:, 1]], [x_1[:, 2]], c='r', label='y = 1') \n",
    "\t\n",
    "\t# plotting decision boundary \n",
    "\tx1 = np.arange(0, 1, 0.1) \n",
    "\tx2 = -(beta[0,0] + beta[0,1]*x1)/beta[0,2] \n",
    "\tplt.plot(x1, x2, c='k', label='reg line') \n",
    "\n",
    "\tplt.xlabel('x1') \n",
    "\tplt.ylabel('x2') \n",
    "\tplt.legend() \n",
    "\tplt.show() \n",
    "\t"
   ]
  },
  {
   "cell_type": "code",
   "execution_count": 10,
   "metadata": {},
   "outputs": [],
   "source": [
    "dataset = loadCSV('dataset1.csv') "
   ]
  },
  {
   "cell_type": "code",
   "execution_count": 11,
   "metadata": {},
   "outputs": [],
   "source": [
    "X = normalize(dataset[:, :-1])"
   ]
  },
  {
   "cell_type": "code",
   "execution_count": 12,
   "metadata": {},
   "outputs": [],
   "source": [
    "X=np.hstack((np.matrix(np.ones(X.shape[0])).T, X))"
   ]
  },
  {
   "cell_type": "code",
   "execution_count": 14,
   "metadata": {},
   "outputs": [],
   "source": [
    "beta = np.matrix(np.zeros(X.shape[1]))"
   ]
  },
  {
   "cell_type": "code",
   "execution_count": 15,
   "metadata": {},
   "outputs": [
    {
     "data": {
      "text/plain": [
       "matrix([[0., 0., 0.]])"
      ]
     },
     "execution_count": 15,
     "metadata": {},
     "output_type": "execute_result"
    }
   ],
   "source": [
    "beta"
   ]
  },
  {
   "cell_type": "code",
   "execution_count": 17,
   "metadata": {},
   "outputs": [],
   "source": [
    "y=dataset[:,-1]"
   ]
  },
  {
   "cell_type": "code",
   "execution_count": 18,
   "metadata": {},
   "outputs": [],
   "source": [
    "beta, num_iter = grad_desc(X, y, beta)"
   ]
  },
  {
   "cell_type": "code",
   "execution_count": 19,
   "metadata": {},
   "outputs": [
    {
     "data": {
      "text/plain": [
       "matrix([[  1.70474504,  15.04062212, -20.47216021]])"
      ]
     },
     "execution_count": 19,
     "metadata": {},
     "output_type": "execute_result"
    }
   ],
   "source": [
    "beta"
   ]
  },
  {
   "cell_type": "code",
   "execution_count": 21,
   "metadata": {},
   "outputs": [
    {
     "data": {
      "text/plain": [
       "array([1., 1., 1., 1., 1., 1., 1., 1., 1., 1., 1., 1., 1., 1., 1., 1., 1.,\n",
       "       1., 1., 1., 1., 1., 1., 1., 1., 1., 1., 1., 1., 1., 1., 1., 1., 1.,\n",
       "       1., 1., 1., 1., 1., 1., 1., 1., 1., 1., 1., 1., 1., 1., 1., 1., 0.,\n",
       "       0., 0., 0., 0., 0., 0., 0., 0., 0., 0., 0., 0., 0., 0., 0., 0., 0.,\n",
       "       0., 0., 0., 0., 0., 0., 0., 0., 0., 0., 0., 0., 0., 0., 0., 0., 0.,\n",
       "       0., 0., 0., 0., 0., 0., 0., 0., 0., 0., 0., 0., 0., 0., 0.])"
      ]
     },
     "execution_count": 21,
     "metadata": {},
     "output_type": "execute_result"
    }
   ],
   "source": [
    "np.squeeze(y)"
   ]
  },
  {
   "cell_type": "code",
   "execution_count": 22,
   "metadata": {},
   "outputs": [
    {
     "data": {
      "text/plain": [
       "array([1., 1., 1., 1., 1., 1., 1., 1., 1., 1., 1., 1., 1., 1., 1., 1., 1.,\n",
       "       1., 1., 1., 1., 1., 1., 1., 1., 1., 1., 1., 1., 1., 1., 1., 1., 1.,\n",
       "       1., 1., 1., 1., 1., 1., 1., 1., 1., 1., 1., 1., 1., 1., 1., 1., 0.,\n",
       "       0., 0., 0., 0., 0., 0., 0., 0., 0., 0., 0., 0., 0., 0., 0., 0., 0.,\n",
       "       0., 0., 0., 0., 0., 0., 0., 0., 0., 0., 0., 0., 0., 0., 0., 0., 0.,\n",
       "       0., 0., 0., 0., 0., 0., 0., 0., 0., 0., 0., 0., 0., 0., 0.])"
      ]
     },
     "execution_count": 22,
     "metadata": {},
     "output_type": "execute_result"
    }
   ],
   "source": [
    "y"
   ]
  },
  {
   "cell_type": "code",
   "execution_count": null,
   "metadata": {},
   "outputs": [],
   "source": []
  }
 ],
 "metadata": {
  "kernelspec": {
   "display_name": "Python 3",
   "language": "python",
   "name": "python3"
  },
  "language_info": {
   "codemirror_mode": {
    "name": "ipython",
    "version": 3
   },
   "file_extension": ".py",
   "mimetype": "text/x-python",
   "name": "python",
   "nbconvert_exporter": "python",
   "pygments_lexer": "ipython3",
   "version": "3.6.8"
  }
 },
 "nbformat": 4,
 "nbformat_minor": 4
}
