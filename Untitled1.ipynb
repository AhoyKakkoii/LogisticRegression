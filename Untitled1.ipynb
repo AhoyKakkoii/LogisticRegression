{
 "cells": [
  {
   "cell_type": "code",
   "execution_count": 96,
   "metadata": {},
   "outputs": [],
   "source": [
    "import csv\n",
    "import numpy as np"
   ]
  },
  {
   "cell_type": "code",
   "execution_count": 97,
   "metadata": {},
   "outputs": [],
   "source": [
    "import matplotlib.pyplot as plt"
   ]
  },
  {
   "cell_type": "code",
   "execution_count": 98,
   "metadata": {},
   "outputs": [],
   "source": [
    "def loadCSV(filename):\n",
    "    with open(filename, 'r') as csvfile:\n",
    "        lines = csv.reader(csvfile)\n",
    "        dataset=list(lines)\n",
    "        for i in range(len(dataset)):\n",
    "            if(i==0):\n",
    "                continue\n",
    "            dataset[i]=[float(x) for x in dataset[i]]\n",
    "    return np.array(dataset)"
   ]
  },
  {
   "cell_type": "code",
   "execution_count": 99,
   "metadata": {},
   "outputs": [],
   "source": [
    "dataset = loadCSV('Admission_Predict_Ver1.1.csv')"
   ]
  },
  {
   "cell_type": "code",
   "execution_count": 100,
   "metadata": {},
   "outputs": [],
   "source": [
    "title = dataset[0]"
   ]
  },
  {
   "cell_type": "code",
   "execution_count": 101,
   "metadata": {},
   "outputs": [
    {
     "data": {
      "text/plain": [
       "array(['Serial No.', 'GRE Score', 'TOEFL Score', 'University Rating',\n",
       "       'SOP', 'LOR ', 'CGPA', 'Research', 'Chance of Admit '],\n",
       "      dtype='<U17')"
      ]
     },
     "execution_count": 101,
     "metadata": {},
     "output_type": "execute_result"
    }
   ],
   "source": [
    "title"
   ]
  },
  {
   "cell_type": "code",
   "execution_count": 102,
   "metadata": {},
   "outputs": [],
   "source": [
    "dataset=dataset[1:].astype(np.float)"
   ]
  },
  {
   "cell_type": "code",
   "execution_count": 103,
   "metadata": {},
   "outputs": [
    {
     "data": {
      "text/plain": [
       "array([[  1.  , 337.  , 118.  , ...,   9.65,   1.  ,   0.92],\n",
       "       [  2.  , 324.  , 107.  , ...,   8.87,   1.  ,   0.76],\n",
       "       [  3.  , 316.  , 104.  , ...,   8.  ,   1.  ,   0.72],\n",
       "       ...,\n",
       "       [498.  , 330.  , 120.  , ...,   9.56,   1.  ,   0.93],\n",
       "       [499.  , 312.  , 103.  , ...,   8.43,   0.  ,   0.73],\n",
       "       [500.  , 327.  , 113.  , ...,   9.04,   0.  ,   0.84]])"
      ]
     },
     "execution_count": 103,
     "metadata": {},
     "output_type": "execute_result"
    }
   ],
   "source": [
    "dataset"
   ]
  },
  {
   "cell_type": "code",
   "execution_count": 104,
   "metadata": {},
   "outputs": [],
   "source": [
    "y = dataset[:,-1]"
   ]
  },
  {
   "cell_type": "code",
   "execution_count": 105,
   "metadata": {},
   "outputs": [],
   "source": [
    "X = dataset[:,1:]"
   ]
  },
  {
   "cell_type": "code",
   "execution_count": 106,
   "metadata": {},
   "outputs": [
    {
     "data": {
      "text/plain": [
       "array([[337.  , 118.  ,   4.  , ...,   9.65,   1.  ,   0.92],\n",
       "       [324.  , 107.  ,   4.  , ...,   8.87,   1.  ,   0.76],\n",
       "       [316.  , 104.  ,   3.  , ...,   8.  ,   1.  ,   0.72],\n",
       "       ...,\n",
       "       [330.  , 120.  ,   5.  , ...,   9.56,   1.  ,   0.93],\n",
       "       [312.  , 103.  ,   4.  , ...,   8.43,   0.  ,   0.73],\n",
       "       [327.  , 113.  ,   4.  , ...,   9.04,   0.  ,   0.84]])"
      ]
     },
     "execution_count": 106,
     "metadata": {},
     "output_type": "execute_result"
    }
   ],
   "source": [
    "X"
   ]
  },
  {
   "cell_type": "code",
   "execution_count": 107,
   "metadata": {},
   "outputs": [],
   "source": [
    "def normalize(X): \n",
    "    ''' \n",
    "    function to normalize feature matrix, X \n",
    "    '''\n",
    "    mins = np.min(X, axis = 0) \n",
    "    print(mins)\n",
    "    maxs = np.max(X, axis = 0) \n",
    "    print(maxs)\n",
    "    rng = maxs - mins \n",
    "    print(rng)\n",
    "    norm_X = 1 - ((maxs - X)/rng) \n",
    "    print('normalized X')\n",
    "    print(norm_X)\n",
    "    return norm_X "
   ]
  },
  {
   "cell_type": "code",
   "execution_count": 108,
   "metadata": {},
   "outputs": [
    {
     "name": "stdout",
     "output_type": "stream",
     "text": [
      "[290.    92.     1.     1.     1.     6.8    0.     0.34]\n",
      "[340.   120.     5.     5.     5.     9.92   1.     0.97]\n",
      "[50.   28.    4.    4.    4.    3.12  1.    0.63]\n",
      "normalized X\n",
      "[[0.94       0.92857143 0.75       ... 0.91346154 1.         0.92063492]\n",
      " [0.68       0.53571429 0.75       ... 0.66346154 1.         0.66666667]\n",
      " [0.52       0.42857143 0.5        ... 0.38461538 1.         0.6031746 ]\n",
      " ...\n",
      " [0.8        1.         1.         ... 0.88461538 1.         0.93650794]\n",
      " [0.44       0.39285714 0.75       ... 0.5224359  0.         0.61904762]\n",
      " [0.74       0.75       0.75       ... 0.71794872 0.         0.79365079]]\n"
     ]
    }
   ],
   "source": [
    "X=normalize(X)"
   ]
  },
  {
   "cell_type": "code",
   "execution_count": null,
   "metadata": {},
   "outputs": [],
   "source": []
  }
 ],
 "metadata": {
  "kernelspec": {
   "display_name": "Python 3",
   "language": "python",
   "name": "python3"
  },
  "language_info": {
   "codemirror_mode": {
    "name": "ipython",
    "version": 3
   },
   "file_extension": ".py",
   "mimetype": "text/x-python",
   "name": "python",
   "nbconvert_exporter": "python",
   "pygments_lexer": "ipython3",
   "version": "3.6.8"
  }
 },
 "nbformat": 4,
 "nbformat_minor": 4
}
